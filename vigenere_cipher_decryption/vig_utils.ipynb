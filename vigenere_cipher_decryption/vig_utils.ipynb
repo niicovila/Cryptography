{
 "cells": [
  {
   "cell_type": "markdown",
   "metadata": {},
   "source": [
    "## Your code here"
   ]
  },
  {
   "cell_type": "code",
   "execution_count": 127,
   "metadata": {},
   "outputs": [],
   "source": [
    "def vig_enc(msg, key):\n",
    "    '''The Vigenere encryption algorithm for capitalized English characters'''\n",
    "    l = len(key)\n",
    "    ctxt = list(msg)\n",
    "    \n",
    "    for i in range(len(msg)):\n",
    "        msg_ascii = ord(msg[i])-65\n",
    "        key_ascii = ord(key[i%l])-65\n",
    "        \n",
    "        ctxt[i] = chr(((msg_ascii+key_ascii)%26)+65)\n",
    "        \n",
    "    return \"\".join(ctxt)\n"
   ]
  },
  {
   "cell_type": "code",
   "execution_count": 128,
   "metadata": {},
   "outputs": [],
   "source": [
    "msg = read_file(\"vig_msg.txt\")\n",
    "\n",
    "keys = [\"RWPJEML\", \"WXDZHQOFJSBOZUCDWKQ\", \"IAKGP\"]\n",
    "\n",
    "c = vig_enc(msg, keys[0])\n"
   ]
  },
  {
   "cell_type": "code",
   "execution_count": 129,
   "metadata": {},
   "outputs": [],
   "source": [
    "ctxt_1 = (vig_enc(msg, keys[0]))\n",
    "ctxt_2 = (vig_enc(msg, keys[1]))\n",
    "ctxt_3 = (vig_enc(msg, keys[2]))"
   ]
  },
  {
   "cell_type": "code",
   "execution_count": 121,
   "metadata": {},
   "outputs": [
    {
     "name": "stdout",
     "output_type": "stream",
     "text": [
      "NDWXTPSWCT\n",
      "QIPWDORWKN\n",
      "ZOXZWMBKTZ\n"
     ]
    }
   ],
   "source": [
    "print_substring_for_the_pset(ctxt_1)\n",
    "print_substring_for_the_pset(ctxt_2)\n",
    "print_substring_for_the_pset(ctxt_3)\n"
   ]
  },
  {
   "cell_type": "code",
   "execution_count": 122,
   "metadata": {},
   "outputs": [],
   "source": [
    "def vig_dec(ctxt, key):\n",
    "    '''The Vigenere encryption algorithm for capitalized English characters'''\n",
    "    l = len(key)\n",
    "    msg = list(ctxt)\n",
    "    \n",
    "    for i in range(len(msg)):\n",
    "        ctxt_ascii = ord(ctxt[i])-65\n",
    "        key_ascii = ord(key[i%l])-65\n",
    "        msg[i] = chr((ctxt_ascii-key_ascii)%26+65)\n",
    "        \n",
    "    return \"\".join(msg)"
   ]
  },
  {
   "cell_type": "code",
   "execution_count": 130,
   "metadata": {},
   "outputs": [
    {
     "name": "stdout",
     "output_type": "stream",
     "text": [
      "RONTHEBANK\n",
      "RONTHEBANK\n",
      "RONTHEBANK\n"
     ]
    }
   ],
   "source": [
    "msg = vig_dec(ctxt_1, keys[0])\n",
    "print_substring_for_the_pset(msg)\n",
    "\n",
    "msg = vig_dec(ctxt_2, keys[1])\n",
    "print_substring_for_the_pset(msg)\n",
    "\n",
    "msg = vig_dec(ctxt_3, keys[2])\n",
    "print_substring_for_the_pset(msg)"
   ]
  },
  {
   "cell_type": "code",
   "execution_count": null,
   "metadata": {},
   "outputs": [],
   "source": []
  },
  {
   "cell_type": "markdown",
   "metadata": {},
   "source": [
    "## Some useful code snippets"
   ]
  },
  {
   "cell_type": "code",
   "execution_count": 1,
   "metadata": {},
   "outputs": [],
   "source": [
    "def read_file(filename):\n",
    "    '''Reads in a file to a string'''\n",
    "    with open(filename, 'r') as file:\n",
    "        msg = file.read()\n",
    "    return msg\n",
    "\n",
    "def print_substring_for_the_pset(string):\n",
    "    '''Prints characters 50 to 59 of the input string\n",
    "    as required for the problem on PSET 1.'''\n",
    "    print(string[50:60])"
   ]
  },
  {
   "cell_type": "markdown",
   "metadata": {},
   "source": [
    "## Demo for converting between ACII and characters"
   ]
  },
  {
   "cell_type": "code",
   "execution_count": 2,
   "metadata": {},
   "outputs": [
    {
     "name": "stdout",
     "output_type": "stream",
     "text": [
      "ASCII to capital letters and back\n",
      "65 --> A --> 65\n",
      "66 --> B --> 66\n",
      "67 --> C --> 67\n",
      "68 --> D --> 68\n",
      "69 --> E --> 69\n",
      "70 --> F --> 70\n",
      "71 --> G --> 71\n",
      "72 --> H --> 72\n",
      "73 --> I --> 73\n",
      "74 --> J --> 74\n",
      "75 --> K --> 75\n",
      "76 --> L --> 76\n",
      "77 --> M --> 77\n",
      "78 --> N --> 78\n",
      "79 --> O --> 79\n",
      "80 --> P --> 80\n",
      "81 --> Q --> 81\n",
      "82 --> R --> 82\n",
      "83 --> S --> 83\n",
      "84 --> T --> 84\n",
      "85 --> U --> 85\n",
      "86 --> V --> 86\n",
      "87 --> W --> 87\n",
      "88 --> X --> 88\n",
      "89 --> Y --> 89\n",
      "90 --> Z --> 90\n"
     ]
    }
   ],
   "source": [
    "print(\"ASCII to capital letters and back\")\n",
    "for ascii_code in range(65,91):\n",
    "    char = chr(ascii_code)\n",
    "    ascii_code_again = ord(char)\n",
    "    print(\"{} --> {} --> {}\".format(ascii_code, char, ascii_code_again))\n"
   ]
  },
  {
   "cell_type": "code",
   "execution_count": null,
   "metadata": {},
   "outputs": [],
   "source": []
  }
 ],
 "metadata": {
  "kernelspec": {
   "display_name": "Python 3 (ipykernel)",
   "language": "python",
   "name": "python3"
  },
  "language_info": {
   "codemirror_mode": {
    "name": "ipython",
    "version": 3
   },
   "file_extension": ".py",
   "mimetype": "text/x-python",
   "name": "python",
   "nbconvert_exporter": "python",
   "pygments_lexer": "ipython3",
   "version": "3.9.12"
  },
  "vscode": {
   "interpreter": {
    "hash": "d0cbeb3e0ef2f0b7f467b1242e919ce0eb92bff74c79fbe5ff9469980264d175"
   }
  }
 },
 "nbformat": 4,
 "nbformat_minor": 1
}
